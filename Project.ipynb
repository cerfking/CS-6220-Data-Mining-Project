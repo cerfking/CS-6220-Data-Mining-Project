{
  "nbformat": 4,
  "nbformat_minor": 0,
  "metadata": {
    "colab": {
      "provenance": [],
      "authorship_tag": "ABX9TyOvsmIrcKwH73LCTNGbIVG0",
      "include_colab_link": true
    },
    "kernelspec": {
      "name": "python3",
      "display_name": "Python 3"
    },
    "language_info": {
      "name": "python"
    }
  },
  "cells": [
    {
      "cell_type": "markdown",
      "metadata": {
        "id": "view-in-github",
        "colab_type": "text"
      },
      "source": [
        "<a href=\"https://colab.research.google.com/github/cerfking/CS-6220-Data-Mining-Project/blob/main/Project.ipynb\" target=\"_parent\"><img src=\"https://colab.research.google.com/assets/colab-badge.svg\" alt=\"Open In Colab\"/></a>"
      ]
    },
    {
      "cell_type": "code",
      "source": [
        "pip install --force-reinstall \"scikit-learn==1.0.2\""
      ],
      "metadata": {
        "id": "AiJZtxxy97NA"
      },
      "execution_count": null,
      "outputs": []
    },
    {
      "cell_type": "code",
      "execution_count": 2,
      "metadata": {
        "id": "ugF5mu7i_kPv"
      },
      "outputs": [],
      "source": [
        "#import dependencies\n",
        "import pandas as pd\n",
        "import numpy as np\n",
        "from sklearn import linear_model\n",
        "from sklearn.model_selection import train_test_split"
      ]
    },
    {
      "cell_type": "code",
      "source": [
        "\n",
        "from sklearn.datasets import load_boston\n",
        "boston = load_boston()"
      ],
      "metadata": {
        "id": "GF8UMSFIBHdx"
      },
      "execution_count": null,
      "outputs": []
    },
    {
      "cell_type": "code",
      "source": [
        "# Transform the data set into a data frame\n",
        "df_x = pd.DataFrame(boston.data, columns=boston.feature_names)\n",
        "#df_y = pd.DataFrame(boston.target)\n",
        "df_y = pd.DataFrame(boston.target, columns=['MEDV'])\n",
        "\n",
        "# Combining the features and target into a single DataFrame\n",
        "df = pd.concat([df_x, df_y], axis=1)\n",
        "\n",
        "df.head()\n"
      ],
      "metadata": {
        "id": "fLQpKo40H94n"
      },
      "execution_count": null,
      "outputs": []
    },
    {
      "cell_type": "code",
      "source": [
        "df_x.describe()"
      ],
      "metadata": {
        "id": "l1oEc8oqt6i1"
      },
      "execution_count": null,
      "outputs": []
    },
    {
      "cell_type": "code",
      "source": [
        "# Get some statistics from the data set\n",
        "\n",
        "df.corr()"
      ],
      "metadata": {
        "id": "3ucEMZwrIaSp"
      },
      "execution_count": null,
      "outputs": []
    },
    {
      "cell_type": "code",
      "source": [
        "from ast import increment_lineno\n",
        "# Data Visualization\n",
        "import seaborn as sns\n",
        "import matplotlib.pyplot as plt\n",
        "%matplotlib inline\n",
        "plt.style.use({'figure.figsize' : (15,10)})\n",
        "plt.rcParams['axes.unicode_minus'] = False\n",
        "df.hist(bins = 15)"
      ],
      "metadata": {
        "id": "qcXzJkrjWbvc"
      },
      "execution_count": null,
      "outputs": []
    },
    {
      "cell_type": "code",
      "source": [
        "#\n",
        "sns.pairplot(df)"
      ],
      "metadata": {
        "id": "9c4xskM1cByw"
      },
      "execution_count": null,
      "outputs": []
    },
    {
      "cell_type": "code",
      "source": [
        "df.plot()"
      ],
      "metadata": {
        "id": "EUHqfV2ifXID"
      },
      "execution_count": null,
      "outputs": []
    },
    {
      "cell_type": "code",
      "source": [
        "df.plot(subplots=True, figsize=(20,45))"
      ],
      "metadata": {
        "id": "bFVhMORF7dsc"
      },
      "execution_count": null,
      "outputs": []
    },
    {
      "cell_type": "code",
      "source": [
        "df.plot(kind='hist', bins=15)"
      ],
      "metadata": {
        "id": "H6A_oCmN_c0X"
      },
      "execution_count": null,
      "outputs": []
    },
    {
      "cell_type": "code",
      "source": [
        "sns.boxplot(data=df[['INDUS','RM','RAD','LSTAT']])"
      ],
      "metadata": {
        "id": "SzhBFtk0_oGg"
      },
      "execution_count": null,
      "outputs": []
    },
    {
      "cell_type": "code",
      "source": [
        "# 绘制变量间相关性系数热力图\n",
        "sns.heatmap(df.corr(), square=True, annot=True, cmap='YlGnBu')"
      ],
      "metadata": {
        "id": "XNScshjjAGZ9"
      },
      "execution_count": null,
      "outputs": []
    },
    {
      "cell_type": "code",
      "source": [
        "for each in df.columns:\n",
        "  plt.scatter(df[each],df['MEDV'])\n",
        "  plt.title('{} and house price'.format(each))\n",
        "  plt.xlabel(each)\n",
        "  plt.ylabel('House Price')\n",
        "  plt.yticks(range(0,60,5))\n",
        "  plt.grid()\n",
        "  plt.show()"
      ],
      "metadata": {
        "id": "4a0X0XH3B1HP"
      },
      "execution_count": null,
      "outputs": []
    },
    {
      "cell_type": "code",
      "source": [
        "# Initialize the linear regression model\n",
        "reg = linear_model.LinearRegression()"
      ],
      "metadata": {
        "id": "uYmF40o4KJDH"
      },
      "execution_count": null,
      "outputs": []
    },
    {
      "cell_type": "code",
      "source": [
        "# Split the data into 67% training and 33% testing data\n",
        "x_train, x_test, y_train, y_test = train_test_split(df_x, df_y, test_size= 0.33, random_state= 42)"
      ],
      "metadata": {
        "id": "MrWHGQLAKSDu"
      },
      "execution_count": 6,
      "outputs": []
    },
    {
      "cell_type": "code",
      "source": [
        "# Train the model\n",
        "reg.fit(x_train, y_train)"
      ],
      "metadata": {
        "colab": {
          "base_uri": "https://localhost:8080/"
        },
        "id": "nuQy3hWzK8Ys",
        "outputId": "6061c1b5-2440-4d58-879d-856e302143a9"
      },
      "execution_count": null,
      "outputs": [
        {
          "output_type": "execute_result",
          "data": {
            "text/plain": [
              "LinearRegression()"
            ]
          },
          "metadata": {},
          "execution_count": 20
        }
      ]
    },
    {
      "cell_type": "code",
      "source": [
        "# Print the coeffecients for each feature\n",
        "print(reg.coef_)"
      ],
      "metadata": {
        "id": "N-JmdYwSLLyc"
      },
      "execution_count": null,
      "outputs": []
    },
    {
      "cell_type": "code",
      "source": [
        "# Print the predictions on the test data\n",
        "y_pred = reg.predict(x_test)\n",
        "print(y_pred)"
      ],
      "metadata": {
        "id": "CJxf3couL1_X"
      },
      "execution_count": null,
      "outputs": []
    },
    {
      "cell_type": "code",
      "source": [
        "print(y_test)"
      ],
      "metadata": {
        "id": "fppmaXGrQn-X"
      },
      "execution_count": null,
      "outputs": []
    },
    {
      "cell_type": "code",
      "source": [
        "# Check the model performance / accuracy using Mean Squared Error (MSE)\n",
        "print(np.mean((y_pred - y_test)**2))"
      ],
      "metadata": {
        "id": "vHX13mxkRBbB"
      },
      "execution_count": null,
      "outputs": []
    },
    {
      "cell_type": "code",
      "source": [
        "# Check the model performance / accuracy using Mean Squared Error (MSE) and sklearn.metrics\n",
        "from sklearn.metrics import mean_squared_error\n",
        "print(mean_squared_error(y_test, y_pred))"
      ],
      "metadata": {
        "id": "N7ndqTO_TOOj"
      },
      "execution_count": null,
      "outputs": []
    },
    {
      "cell_type": "code",
      "source": [
        "from sklearn.ensemble import RandomForestRegressor\n",
        "from sklearn.model_selection import GridSearchCV\n",
        "param_grid = {\n",
        "    'n_estimators': [5, 10, 20, 50, 100, 200], #The number of the estimators\n",
        "    'max_depth': [3, 5, 7],\n",
        "    'max_features': [0.6, 0.7, 0.8, 1]\n",
        "}\n",
        "\n",
        "rf =  RandomForestRegressor()\n",
        "\n",
        "# Construct a search regressor based on the random forest regressor\n",
        "grid = GridSearchCV(rf, param_grid=param_grid, cv=3)\n",
        "\n",
        "grid.fit(x_train, y_train)\n",
        "# View the parameters of the best performing model\n",
        "grid.best_params_\n",
        "# Specify the model as the model corresponding to the parameters with the best performance\n",
        "rf_reg = grid.best_estimator_\n",
        "rf_reg"
      ],
      "metadata": {
        "id": "JOtqoi5kOtmg"
      },
      "execution_count": null,
      "outputs": []
    },
    {
      "cell_type": "code",
      "source": [
        "# Visualization\n",
        "from sklearn import tree\n",
        "import pydotplus\n",
        "from IPython.display import Image, display\n",
        "\n",
        "estimator = rf_reg.estimators_[3]\n",
        "dot_data = tree.export_graphviz(estimator, out_file=None, filled=True, rounded=True)\n",
        "graph = pydotplus.graph_from_dot_data(dot_data)\n",
        "display(Image(graph.create_png()))"
      ],
      "metadata": {
        "id": "2HaT-XckVIl4"
      },
      "execution_count": null,
      "outputs": []
    },
    {
      "cell_type": "code",
      "source": [
        "# Feature ranking\n",
        "feature_names = df_x.columns\n",
        "feature_importances = rf_reg.feature_importances_\n",
        "indices = np.argsort(feature_importances)[::-1]\n",
        "for index in indices:\n",
        "  print(\"feature %s (%f)\" %(feature_names[index], feature_importances[index]))"
      ],
      "metadata": {
        "id": "kO9MnfulXuMG"
      },
      "execution_count": null,
      "outputs": []
    },
    {
      "cell_type": "code",
      "source": [
        "# 随机森林模型不同特征的重要度\n",
        "plt.figure(figsize=(16,8))\n",
        "plt.bar(range(len(feature_importances)), feature_importances[indices], color='b')\n",
        "plt.xticks(range(len(feature_importances)), np.array(feature_names)[indices], color='b')\n",
        "plt.show()"
      ],
      "metadata": {
        "id": "WqGRAc6ObPBR"
      },
      "execution_count": null,
      "outputs": []
    },
    {
      "cell_type": "code",
      "source": [
        "# 可视化测试集上的回归预测结果\n",
        "import matplotlib.pyplot as plt\n",
        "if isinstance(y_test, np.ndarray):\n",
        "    y_test_1d = y_test.ravel()  # For numpy arrays\n",
        "elif isinstance(y_test, (pd.Series, pd.DataFrame)):\n",
        "    y_test_1d = y_test.squeeze()  # For pandas objects\n",
        "\n",
        "# Ensure predictions are 1-dimensional\n",
        "predictions = rf_reg.predict(x_test)\n",
        "if predictions.ndim > 1:  # For numpy arrays with more than one dimension\n",
        "    predictions_1d = predictions.ravel()\n",
        "else:  # If predictions are already 1-dimensional\n",
        "    predictions_1d = predictions\n",
        "\n",
        "# Now, create the DataFrame with these 1D data\n",
        "result = pd.DataFrame({\n",
        "    \"label\": y_test_1d,\n",
        "    \"prediction\": predictions_1d\n",
        "})\n",
        "result.head()\n",
        "result['label'].plot(style='k.', figsize=(15,5))\n",
        "result['prediction'].plot(style='r.')\n",
        "plt.legend(fontsize=15,markerscale=3)\n",
        "plt.tick_params(labelsize=25)\n",
        "plt.grid()"
      ],
      "metadata": {
        "id": "yotu_52zd_3K"
      },
      "execution_count": null,
      "outputs": []
    },
    {
      "cell_type": "code",
      "source": [
        "from sklearn import metrics\n",
        "MSE = metrics.mean_squared_error(y_test, rf_reg.predict(x_test))\n",
        "MSE"
      ],
      "metadata": {
        "id": "-WTdr_uAi_qb"
      },
      "execution_count": null,
      "outputs": []
    }
  ]
}